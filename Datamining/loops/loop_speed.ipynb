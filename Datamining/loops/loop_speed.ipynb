{
  "cells": [
    {
      "attachments": {},
      "cell_type": "markdown",
      "metadata": {},
      "source": [
        "---\n",
        "title: \"For loop 속도 개선하기\"\n",
        "author: \"kim dayeon\"\n",
        "date: today\n",
        "categories: [news, code, analysis]\n",
        "image: L.jpg\n",
        "---"
      ]
    },
    {
      "cell_type": "markdown",
      "metadata": {
        "id": "azPo-t6fIlZa"
      },
      "source": [
        "## For loop 속도 개선하기\n",
        "\n",
        "강의자료 출처\n",
        "- https://blog.fearcat.in/a?ID=00900-6997c6fb-2680-4531-af1d-73eeccce74ef\n",
        "- https://aldente0630.github.io/data-science/2018/08/05/a-beginners-guide-to-optimizing-pandas-code-for-speed.html"
      ]
    },
    {
      "cell_type": "code",
      "execution_count": 1,
      "metadata": {
        "deletable": true,
        "editable": true,
        "id": "cYmpzfCvIlZf"
      },
      "outputs": [],
      "source": [
        "import pandas as pd\n",
        "import numpy as np\n",
        "from math import *"
      ]
    },
    {
      "cell_type": "markdown",
      "metadata": {
        "id": "CBMYO-TlIlZg"
      },
      "source": [
        "### Read in the data\n",
        "\n",
        "익스피디아 개발자 사이트에서 제공한 뉴욕 주 내 모든 호텔 좌표가 들어있는 데이터셋"
      ]
    },
    {
      "cell_type": "code",
      "execution_count": 2,
      "metadata": {
        "deletable": true,
        "editable": true,
        "id": "A2AJpApcIlZh",
        "jupyter": {
          "outputs_hidden": false
        }
      },
      "outputs": [],
      "source": [
        "df = pd.read_csv('new_york_hotels.csv', encoding='cp1252')"
      ]
    },
    {
      "cell_type": "code",
      "execution_count": 3,
      "metadata": {},
      "outputs": [
        {
          "data": {
            "text/plain": [
              "(1631, 11)"
            ]
          },
          "execution_count": 3,
          "metadata": {},
          "output_type": "execute_result"
        }
      ],
      "source": [
        "df.shape"
      ]
    },
    {
      "cell_type": "code",
      "execution_count": 4,
      "metadata": {
        "deletable": true,
        "editable": true,
        "id": "l1eDI2v6IlZh",
        "jupyter": {
          "outputs_hidden": false
        },
        "outputId": "9f437811-f98a-424a-ca4d-11bc3b6690ff",
        "scrolled": true
      },
      "outputs": [
        {
          "data": {
            "text/html": [
              "<div>\n",
              "<style scoped>\n",
              "    .dataframe tbody tr th:only-of-type {\n",
              "        vertical-align: middle;\n",
              "    }\n",
              "\n",
              "    .dataframe tbody tr th {\n",
              "        vertical-align: top;\n",
              "    }\n",
              "\n",
              "    .dataframe thead th {\n",
              "        text-align: right;\n",
              "    }\n",
              "</style>\n",
              "<table border=\"1\" class=\"dataframe\">\n",
              "  <thead>\n",
              "    <tr style=\"text-align: right;\">\n",
              "      <th></th>\n",
              "      <th>ean_hotel_id</th>\n",
              "      <th>name</th>\n",
              "      <th>address1</th>\n",
              "      <th>city</th>\n",
              "      <th>state_province</th>\n",
              "      <th>postal_code</th>\n",
              "      <th>latitude</th>\n",
              "      <th>longitude</th>\n",
              "      <th>star_rating</th>\n",
              "      <th>high_rate</th>\n",
              "      <th>low_rate</th>\n",
              "    </tr>\n",
              "  </thead>\n",
              "  <tbody>\n",
              "    <tr>\n",
              "      <th>0</th>\n",
              "      <td>269955</td>\n",
              "      <td>Hilton Garden Inn Albany/SUNY Area</td>\n",
              "      <td>1389 Washington Ave</td>\n",
              "      <td>Albany</td>\n",
              "      <td>NY</td>\n",
              "      <td>12206</td>\n",
              "      <td>42.68751</td>\n",
              "      <td>-73.81643</td>\n",
              "      <td>3.0</td>\n",
              "      <td>154.0272</td>\n",
              "      <td>124.0216</td>\n",
              "    </tr>\n",
              "    <tr>\n",
              "      <th>1</th>\n",
              "      <td>113431</td>\n",
              "      <td>Courtyard by Marriott Albany Thruway</td>\n",
              "      <td>1455 Washington Avenue</td>\n",
              "      <td>Albany</td>\n",
              "      <td>NY</td>\n",
              "      <td>12206</td>\n",
              "      <td>42.68971</td>\n",
              "      <td>-73.82021</td>\n",
              "      <td>3.0</td>\n",
              "      <td>179.0100</td>\n",
              "      <td>134.0000</td>\n",
              "    </tr>\n",
              "    <tr>\n",
              "      <th>2</th>\n",
              "      <td>108151</td>\n",
              "      <td>Radisson Hotel Albany</td>\n",
              "      <td>205 Wolf Rd</td>\n",
              "      <td>Albany</td>\n",
              "      <td>NY</td>\n",
              "      <td>12205</td>\n",
              "      <td>42.72410</td>\n",
              "      <td>-73.79822</td>\n",
              "      <td>3.0</td>\n",
              "      <td>134.1700</td>\n",
              "      <td>84.1600</td>\n",
              "    </tr>\n",
              "    <tr>\n",
              "      <th>3</th>\n",
              "      <td>254756</td>\n",
              "      <td>Hilton Garden Inn Albany Medical Center</td>\n",
              "      <td>62 New Scotland Ave</td>\n",
              "      <td>Albany</td>\n",
              "      <td>NY</td>\n",
              "      <td>12208</td>\n",
              "      <td>42.65157</td>\n",
              "      <td>-73.77638</td>\n",
              "      <td>3.0</td>\n",
              "      <td>308.2807</td>\n",
              "      <td>228.4597</td>\n",
              "    </tr>\n",
              "    <tr>\n",
              "      <th>4</th>\n",
              "      <td>198232</td>\n",
              "      <td>CrestHill Suites SUNY University Albany</td>\n",
              "      <td>1415 Washington Avenue</td>\n",
              "      <td>Albany</td>\n",
              "      <td>NY</td>\n",
              "      <td>12206</td>\n",
              "      <td>42.68873</td>\n",
              "      <td>-73.81854</td>\n",
              "      <td>3.0</td>\n",
              "      <td>169.3900</td>\n",
              "      <td>89.3900</td>\n",
              "    </tr>\n",
              "  </tbody>\n",
              "</table>\n",
              "</div>"
            ],
            "text/plain": [
              "   ean_hotel_id                                     name   \n",
              "0        269955       Hilton Garden Inn Albany/SUNY Area  \\\n",
              "1        113431     Courtyard by Marriott Albany Thruway   \n",
              "2        108151                    Radisson Hotel Albany   \n",
              "3        254756  Hilton Garden Inn Albany Medical Center   \n",
              "4        198232  CrestHill Suites SUNY University Albany   \n",
              "\n",
              "                 address1    city state_province postal_code  latitude   \n",
              "0     1389 Washington Ave  Albany             NY       12206  42.68751  \\\n",
              "1  1455 Washington Avenue  Albany             NY       12206  42.68971   \n",
              "2             205 Wolf Rd  Albany             NY       12205  42.72410   \n",
              "3     62 New Scotland Ave  Albany             NY       12208  42.65157   \n",
              "4  1415 Washington Avenue  Albany             NY       12206  42.68873   \n",
              "\n",
              "   longitude  star_rating  high_rate  low_rate  \n",
              "0  -73.81643          3.0   154.0272  124.0216  \n",
              "1  -73.82021          3.0   179.0100  134.0000  \n",
              "2  -73.79822          3.0   134.1700   84.1600  \n",
              "3  -73.77638          3.0   308.2807  228.4597  \n",
              "4  -73.81854          3.0   169.3900   89.3900  "
            ]
          },
          "execution_count": 4,
          "metadata": {},
          "output_type": "execute_result"
        }
      ],
      "source": [
        "df.head()"
      ]
    },
    {
      "cell_type": "code",
      "execution_count": 5,
      "metadata": {
        "id": "UZ3ELg1OIlZi",
        "outputId": "213d2165-bbaf-4e5c-ecf7-565088a0788a"
      },
      "outputs": [
        {
          "data": {
            "text/html": [
              "<div>\n",
              "<style scoped>\n",
              "    .dataframe tbody tr th:only-of-type {\n",
              "        vertical-align: middle;\n",
              "    }\n",
              "\n",
              "    .dataframe tbody tr th {\n",
              "        vertical-align: top;\n",
              "    }\n",
              "\n",
              "    .dataframe thead th {\n",
              "        text-align: right;\n",
              "    }\n",
              "</style>\n",
              "<table border=\"1\" class=\"dataframe\">\n",
              "  <thead>\n",
              "    <tr style=\"text-align: right;\">\n",
              "      <th></th>\n",
              "      <th>ean_hotel_id</th>\n",
              "      <th>latitude</th>\n",
              "      <th>longitude</th>\n",
              "      <th>star_rating</th>\n",
              "      <th>high_rate</th>\n",
              "      <th>low_rate</th>\n",
              "    </tr>\n",
              "  </thead>\n",
              "  <tbody>\n",
              "    <tr>\n",
              "      <th>count</th>\n",
              "      <td>1631.000000</td>\n",
              "      <td>1631.000000</td>\n",
              "      <td>1631.000000</td>\n",
              "      <td>1630.000000</td>\n",
              "      <td>1631.000000</td>\n",
              "      <td>1631.000000</td>\n",
              "    </tr>\n",
              "    <tr>\n",
              "      <th>mean</th>\n",
              "      <td>302845.515021</td>\n",
              "      <td>41.851026</td>\n",
              "      <td>-75.015019</td>\n",
              "      <td>2.894785</td>\n",
              "      <td>273.268624</td>\n",
              "      <td>169.408866</td>\n",
              "    </tr>\n",
              "    <tr>\n",
              "      <th>std</th>\n",
              "      <td>163497.215910</td>\n",
              "      <td>1.131960</td>\n",
              "      <td>1.774482</td>\n",
              "      <td>0.777486</td>\n",
              "      <td>504.191880</td>\n",
              "      <td>205.914287</td>\n",
              "    </tr>\n",
              "    <tr>\n",
              "      <th>min</th>\n",
              "      <td>6295.000000</td>\n",
              "      <td>40.583990</td>\n",
              "      <td>-79.742010</td>\n",
              "      <td>1.000000</td>\n",
              "      <td>0.000000</td>\n",
              "      <td>0.000000</td>\n",
              "    </tr>\n",
              "    <tr>\n",
              "      <th>25%</th>\n",
              "      <td>163765.500000</td>\n",
              "      <td>40.755540</td>\n",
              "      <td>-76.142530</td>\n",
              "      <td>2.500000</td>\n",
              "      <td>121.400000</td>\n",
              "      <td>97.318000</td>\n",
              "    </tr>\n",
              "    <tr>\n",
              "      <th>50%</th>\n",
              "      <td>252457.000000</td>\n",
              "      <td>41.558420</td>\n",
              "      <td>-73.988710</td>\n",
              "      <td>3.000000</td>\n",
              "      <td>170.000000</td>\n",
              "      <td>134.370000</td>\n",
              "    </tr>\n",
              "    <tr>\n",
              "      <th>75%</th>\n",
              "      <td>437138.000000</td>\n",
              "      <td>42.949455</td>\n",
              "      <td>-73.905340</td>\n",
              "      <td>3.500000</td>\n",
              "      <td>279.930000</td>\n",
              "      <td>195.260000</td>\n",
              "    </tr>\n",
              "    <tr>\n",
              "      <th>max</th>\n",
              "      <td>685047.000000</td>\n",
              "      <td>44.967850</td>\n",
              "      <td>-71.933340</td>\n",
              "      <td>5.000000</td>\n",
              "      <td>10888.500000</td>\n",
              "      <td>5990.250000</td>\n",
              "    </tr>\n",
              "  </tbody>\n",
              "</table>\n",
              "</div>"
            ],
            "text/plain": [
              "        ean_hotel_id     latitude    longitude  star_rating     high_rate   \n",
              "count    1631.000000  1631.000000  1631.000000  1630.000000   1631.000000  \\\n",
              "mean   302845.515021    41.851026   -75.015019     2.894785    273.268624   \n",
              "std    163497.215910     1.131960     1.774482     0.777486    504.191880   \n",
              "min      6295.000000    40.583990   -79.742010     1.000000      0.000000   \n",
              "25%    163765.500000    40.755540   -76.142530     2.500000    121.400000   \n",
              "50%    252457.000000    41.558420   -73.988710     3.000000    170.000000   \n",
              "75%    437138.000000    42.949455   -73.905340     3.500000    279.930000   \n",
              "max    685047.000000    44.967850   -71.933340     5.000000  10888.500000   \n",
              "\n",
              "          low_rate  \n",
              "count  1631.000000  \n",
              "mean    169.408866  \n",
              "std     205.914287  \n",
              "min       0.000000  \n",
              "25%      97.318000  \n",
              "50%     134.370000  \n",
              "75%     195.260000  \n",
              "max    5990.250000  "
            ]
          },
          "execution_count": 5,
          "metadata": {},
          "output_type": "execute_result"
        }
      ],
      "source": [
        "df.describe()"
      ]
    },
    {
      "cell_type": "markdown",
      "metadata": {
        "deletable": true,
        "editable": true,
        "id": "YXV82PiGIlZj"
      },
      "source": [
        "## Haversine definition\n",
        "\n",
        "두 위치 사이의 거리를 계산하는 함수\n",
        "- https://stricky.tistory.com/284"
      ]
    },
    {
      "cell_type": "code",
      "execution_count": 6,
      "metadata": {
        "deletable": true,
        "editable": true,
        "id": "Sjg3sPp9IlZj"
      },
      "outputs": [],
      "source": [
        "def haversine(lat1, lon1, lat2, lon2):\n",
        "    miles_constant = 3959\n",
        "    lat1, lon1, lat2, lon2 = map(np.deg2rad, [lat1, lon1, lat2, lon2])\n",
        "    dlat = lat2 - lat1 \n",
        "    dlon = lon2 - lon1 \n",
        "    a = np.sin(dlat/2)**2 + np.cos(lat1) * np.cos(lat2) * np.sin(dlon/2)**2\n",
        "    c = 2 * np.arcsin(np.sqrt(a)) \n",
        "    mi = miles_constant * c\n",
        "    return mi"
      ]
    },
    {
      "cell_type": "markdown",
      "metadata": {
        "id": "E7Zc332NIlZk"
      },
      "source": [
        "## Task \n",
        "\n",
        "어떤 위치, (40.671, -73.985)에서 `df`에 존재하는 모든 호텔까지의 거리를 구해봅시다"
      ]
    },
    {
      "cell_type": "markdown",
      "metadata": {
        "id": "jL9spLJpIlZk"
      },
      "source": [
        "## Looping Haversine"
      ]
    },
    {
      "cell_type": "code",
      "execution_count": 7,
      "metadata": {
        "id": "c-BqkA59IlZl"
      },
      "outputs": [],
      "source": [
        "def haversine_looping(df):\n",
        "    distance_list = [] # 빈 리스트를 생성\n",
        "    for i in range(0, len(df)):   #dataframe에서 값을 하나씩 뽑아서 \n",
        "        d = haversine(40.671, -73.985, df.iloc[i]['latitude'], df.iloc[i]['longitude'])\n",
        "        distance_list.append(d)\n",
        "    return distance_list"
      ]
    },
    {
      "cell_type": "markdown",
      "metadata": {
        "id": "tDxRm3PxIlZl"
      },
      "source": [
        "%%timeit은 Jupyter Notebook에서 사용되는 매직 명령어 중 하나로, 코드 실행 시간을 측정하는 도구입니다.\n",
        "\n",
        "%%timeit 매직 명령어를 사용하면 해당 셀의 코드를 여러 번 실행하여 실행 시간을 평균적으로 계산합니다. 이를 통해 코드의 실행 성능을 쉽게 측정하고 비교할 수 있습니다."
      ]
    },
    {
      "cell_type": "code",
      "execution_count": 8,
      "metadata": {
        "id": "qGgeDb9_IlZl",
        "outputId": "93d69c41-6f76-4bc4-a2a5-db309e7b6e20"
      },
      "outputs": [
        {
          "name": "stdout",
          "output_type": "stream",
          "text": [
            "446 ms ± 121 ms per loop (mean ± std. dev. of 7 runs, 1 loop each)\n"
          ]
        }
      ],
      "source": [
        "%%timeit\n",
        "\n",
        "# Haversine 반복 함수 실행하기\n",
        "df['distance'] = haversine_looping(df)"
      ]
    },
    {
      "cell_type": "code",
      "execution_count": 9,
      "metadata": {
        "id": "XnnfPUMaIlZm",
        "outputId": "52934dbd-3268-4afc-b637-3c4e37dd1c6b"
      },
      "outputs": [
        {
          "data": {
            "text/plain": [
              "count    1631.000000\n",
              "mean      111.318922\n",
              "std       107.476086\n",
              "min         0.163480\n",
              "25%         6.305530\n",
              "50%        71.070425\n",
              "75%       199.395866\n",
              "max       314.936306\n",
              "Name: distance, dtype: float64"
            ]
          },
          "execution_count": 9,
          "metadata": {},
          "output_type": "execute_result"
        }
      ],
      "source": [
        "df['distance'].describe()"
      ]
    },
    {
      "cell_type": "markdown",
      "metadata": {
        "deletable": true,
        "editable": true,
        "id": "JfKAZXDyIlZm"
      },
      "source": [
        "## Iterrows Haversine\n",
        "\n",
        "반복문을 돌려야 할 때 iterrows() 메서드를 사용하는 건 행을 반복하기 위한 더 좋은 방법이다. iterrows()는 데이터 프레임의 행을 반복하며 행 자체를 포함하는 객체에 덧붙여 각 행의 색인을 반환하는 제너레이터다. iterrows()는 판다스 데이터 프레임과 함께 작동하게끔 최적화되어 있으며 표준 함수 대부분을 실행하는 데 가장 효율적인 방법은 아니지만(나중에 자세히 설명) 단순 반복보다는 상당히 개선되었다. 예제의 경우 iterrows()는 행을 수동으로 반복하는 것보다 거의 똑같은 문제를 약 4배 빠르게 해결한다."
      ]
    },
    {
      "cell_type": "code",
      "execution_count": 10,
      "metadata": {
        "id": "ULwtQwaqIlZn",
        "outputId": "cae93271-3c2a-440c-d1cd-cae2bd3c049d"
      },
      "outputs": [
        {
          "name": "stdout",
          "output_type": "stream",
          "text": [
            "42.68751\n",
            "42.68971\n",
            "42.7241\n",
            "42.65157\n",
            "42.68873\n",
            "42.72874\n",
            "42.68031\n",
            "42.65334\n",
            "42.72111\n",
            "42.67807\n"
          ]
        }
      ],
      "source": [
        "# Haversine applied on rows via iteration  #그냥 반복 보다는 빠르다 \n",
        "haversine_series = []\n",
        "for index, row in df.iloc[0:10].iterrows():  #iterrows:index랑 row랑 같이 뽑아줌  #row는 데이터의 행이 하나씩 뽑아짐\n",
        "    print(row['latitude'])    #index : ex) 0123...."
      ]
    },
    {
      "cell_type": "code",
      "execution_count": 11,
      "metadata": {
        "deletable": true,
        "editable": true,
        "id": "efRasHGsIlZn",
        "jupyter": {
          "outputs_hidden": false
        },
        "outputId": "9added02-742b-47c3-8780-5eb2bf75a9d2"
      },
      "outputs": [
        {
          "name": "stdout",
          "output_type": "stream",
          "text": [
            "224 ms ± 40.4 ms per loop (mean ± std. dev. of 7 runs, 1 loop each)\n"
          ]
        }
      ],
      "source": [
        "%%timeit\n",
        "# Haversine applied on rows via iteration\n",
        "haversine_series = []\n",
        "for index, row in df.iterrows():\n",
        "    haversine_series.append(haversine(40.671, -73.985, row['latitude'], row['longitude']))\n",
        "df['distance'] = haversine_series"
      ]
    },
    {
      "cell_type": "markdown",
      "metadata": {
        "id": "9rI370NpIlZn"
      },
      "source": [
        "itertuples와 iterrows는 모두 Pandas 데이터프레임의 행을 순회(iterate)하는 메서드입니다. 그러나 itertuples는 iterrows보다 더욱 빠른 속도를 보이므로, 대체로 itertuples를 사용하는 것이 좋습니다.\n",
        "\n",
        "이유는 iterrows는 각 행(row)을 Series 객체로 반환하는 반면, itertuples는 각 행을 NamedTuple로 반환합니다. NamedTuple은 각 속성(attribute)에 이름이 지정되어 있기 때문에, Series보다 빠르게 데이터에 접근할 수 있습니다. 따라서 대용량의 데이터프레임을 다룰 때는 itertuples를 사용하는 것이 더욱 효율적입니다."
      ]
    },
    {
      "cell_type": "code",
      "execution_count": 12,
      "metadata": {
        "id": "WCs0VvYQIlZo",
        "outputId": "839609e5-eb8a-4334-b10f-a120f5b098a4"
      },
      "outputs": [
        {
          "name": "stdout",
          "output_type": "stream",
          "text": [
            "27.5 ms ± 6.51 ms per loop (mean ± std. dev. of 7 runs, 10 loops each)\n"
          ]
        }
      ],
      "source": [
        "%%timeit\n",
        "haversine_series = []\n",
        "for idx, lat, lon in df[['latitude','longitude']].itertuples():  #itertples가 일반 루프문 보다는 상당히 빠르다\n",
        "    haversine_series.append(haversine(40.671, -73.985, lat, lon))\n",
        "    \n",
        "df['distance'] = haversine_series"
      ]
    },
    {
      "cell_type": "code",
      "execution_count": 13,
      "metadata": {},
      "outputs": [
        {
          "ename": "NameError",
          "evalue": "name 'df2' is not defined",
          "output_type": "error",
          "traceback": [
            "\u001b[1;31m---------------------------------------------------------------------------\u001b[0m",
            "\u001b[1;31mNameError\u001b[0m                                 Traceback (most recent call last)",
            "Cell \u001b[1;32mIn[13], line 1\u001b[0m\n\u001b[1;32m----> 1\u001b[0m df2\n",
            "\u001b[1;31mNameError\u001b[0m: name 'df2' is not defined"
          ]
        }
      ],
      "source": [
        "df2"
      ]
    },
    {
      "cell_type": "code",
      "execution_count": null,
      "metadata": {
        "id": "4ktC1VnNIlZo",
        "outputId": "8a1f1b1e-c014-4107-ad60-9338277edb73"
      },
      "outputs": [
        {
          "name": "stdout",
          "output_type": "stream",
          "text": [
            "Pandas(Index=0, A=1, B='a')\n",
            "Pandas(Index=1, A=2, B='b')\n",
            "Pandas(Index=2, A=3, B='c')\n"
          ]
        }
      ],
      "source": [
        "#예제   # 한 행씩 뽑는것\n",
        "import pandas as pd\n",
        "\n",
        "df2 = pd.DataFrame({'A': [1, 2, 3], 'B': ['a', 'b', 'c']})\n",
        "\n",
        "for row in df2.itertuples():\n",
        "    print(row)"
      ]
    },
    {
      "cell_type": "markdown",
      "metadata": {
        "deletable": true,
        "editable": true,
        "id": "ONuGmLzLIlZo"
      },
      "source": [
        "## Apply Haversine on rows\n",
        "\n",
        "`iterrows()`보다 더 좋은 옵션은 데이터 프레임의 특정 축(행 또는 열을 의미)을 따라 함수를 적용하는 `apply()` 메서드를 사용하는 것이다. `apply()`는 본질적으로 행을 반복하지만 Cython에서 이터레이터를 사용하는 것 같이 내부 최적화를 다양하게 활용하므로 `iterrows()`보다 훨씬 효율적이다.\n",
        "\n",
        "익명의 람다 함수를 사용하여 Haversine 함수를 각 행에 적용하며 각 행의 특정 셀을 함수 입력값으로 지정할 수 있다. 람다 함수는 판다스가 행(축 = 1)과 열(축 = 0) 중 어디에 함수를 적용할지 정할 수 있게 축 매개 변수를 마지막에 포함한다."
      ]
    },
    {
      "cell_type": "markdown",
      "metadata": {
        "id": "J5q-9h5-IlZp"
      },
      "source": [
        "### Timing \"apply\""
      ]
    },
    {
      "cell_type": "code",
      "execution_count": null,
      "metadata": {
        "deletable": true,
        "editable": true,
        "id": "kpdAdtPOIlZp",
        "jupyter": {
          "outputs_hidden": false
        },
        "outputId": "83829ee4-2e7f-4ff2-b0ed-fb0fcd88d479",
        "scrolled": true
      },
      "outputs": [
        {
          "name": "stdout",
          "output_type": "stream",
          "text": [
            "119 ms ± 24.3 ms per loop (mean ± std. dev. of 7 runs, 1 loop each)\n"
          ]
        }
      ],
      "source": [
        "%%timeit \n",
        "\n",
        "df['distance'] =\\\n",
        "df.apply(lambda row: haversine(40.671, -73.985, \\\n",
        "    row['latitude'], row['longitude']), axis=1)   #apply: 사용하면 각각의 행이 실행  \\: 줄바꿈이라 무시# axis: 축 0번째는 열 기준 1은 행기준"
      ]
    },
    {
      "cell_type": "markdown",
      "metadata": {
        "deletable": true,
        "editable": true,
        "id": "9GpesA9fIlZp"
      },
      "source": [
        "## Vectorized implementation of Haversine applied on Pandas series"
      ]
    },
    {
      "cell_type": "markdown",
      "metadata": {
        "id": "T9_VnanQIlZp"
      },
      "source": [
        "#### Timing vectorized implementation\n",
        "\n",
        "함수 수행의 반복량 줄이는 방법을 이해하기 위해 판다스의 기본 단위, 데이터 프레임과 시리즈가 모두 배열 기반임을 알아두자. 기본 단위의 내부 구조는 개별 값(스칼라라고 함)마다 순차적으로 작동하는 대신 전체 배열 위로 작동하도록 설계된 내장 판다스 함수를 위해 변환된다. 벡터화는 전체 배열 위로 작업을 실행하는 프로세스다.\n",
        "\n",
        "판다스는 수학 연산에서 집계 및 문자열 함수(사용 가능한 함수의 광범위한 목록은 판다스 문서에서 확인해라)에 이르기까지 다양한 벡터화 함수를 포함하고 있다. 내장 함수는 판다스 시리즈와 데이터 프레임에서 작동하게끔 최적화되어있다. 결과적으로 벡터화 판다스 함수를 사용하는 건 비슷한 목적을 위해 손수 반복시키는 방법보다 거의 항상 바람직하다.\n",
        "\n",
        "지금까지는 Haversine 함수에 스칼라를 전달했다. 그러나 Haversine 함수 내에서 사용하는 모든 함수를 배열 위로 작동시킬 수 있다. 이렇게 하면 거리 함수를 매우 간단하게 벡터화할 수 있다. 스칼라 값으로 각 위도, 경도를 전달하는 대신 전체 시리즈(열)를 전달한다. 이를 통해 판다스는 벡터화 함수에 적용 가능한 모든 최적화 옵션을 활용할 수 있고 특히 전체 배열에 대한 모든 계산을 동시에 수행하게 된다."
      ]
    },
    {
      "cell_type": "code",
      "execution_count": 44,
      "metadata": {
        "deletable": true,
        "editable": true,
        "id": "3-07zxuLIlZq",
        "jupyter": {
          "outputs_hidden": false
        },
        "outputId": "f3b4e9a7-3db3-42de-c1ca-b5940db105b5"
      },
      "outputs": [
        {
          "name": "stdout",
          "output_type": "stream",
          "text": [
            "2.77 ms ± 556 µs per loop (mean ± std. dev. of 7 runs, 100 loops each)\n"
          ]
        }
      ],
      "source": [
        "%%timeit\n",
        "# Vectorized implementation of Haversine applied on Pandas series\n",
        "df['distance'] = haversine(40.671, -73.985,\\\n",
        "                                   df['latitude'], df['longitude'])"
      ]
    },
    {
      "cell_type": "code",
      "execution_count": 45,
      "metadata": {},
      "outputs": [
        {
          "data": {
            "text/plain": [
              "0       139.607190\n",
              "1       139.746898\n",
              "2       142.191050\n",
              "3       137.275546\n",
              "4       139.684583\n",
              "           ...    \n",
              "1626     21.551000\n",
              "1627     20.583072\n",
              "1628     18.914309\n",
              "1629     20.785405\n",
              "1630     21.588998\n",
              "Length: 1631, dtype: float64"
            ]
          },
          "execution_count": 45,
          "metadata": {},
          "output_type": "execute_result"
        }
      ],
      "source": [
        "haversine(40.671, -73.985,\\\n",
        "           df['latitude'], df['longitude'])"
      ]
    },
    {
      "cell_type": "markdown",
      "metadata": {
        "id": "ktV5FvTiIlZq"
      },
      "source": [
        "함수 벡터화를 통해 apply() 메서드 대비 50배 이상 개선시켰고 iterrows() 대비 100배 이상 개선시켰다. 입력 유형 변경하는 것 외에 아무것도 하지 않아도 됐다!"
      ]
    },
    {
      "cell_type": "markdown",
      "metadata": {
        "deletable": true,
        "editable": true,
        "id": "dT3xUM5xIlZq"
      },
      "source": [
        "## Vectorized implementation of Haversine applied on NumPy arrays\n",
        "\n",
        "이 지점에서 그만두어도 괜찮다. 판다스 시리즈를 사용해 벡터화하면 상시 계산을 위한 최적화 요구 사항의 거의 대부분을 만족시킬 수 있다. 그러나 속도가 최우선이라면 넘파이 파이썬 라이브러리 형식에 도움을 요청해볼 수 있다.\n",
        "\n",
        "넘파이 라이브러리는 “과학 계산을 위한 파이썬 기본 패키지”를 표방하며 내부가 최적화된, 사전 컴파일된 C 코드로 작업을 수행한다. 판다스와 마찬가지로 넘파이는 배열 객체(ndarrays라고 함) 상에서 작동한다. 그러나 색인, 데이터 유형 확인 등과 같이 판다스 시리즈 작업으로 인한 오버헤드가 많이 발생하지 않는다. 결과적으로 넘파이 배열에 대한 작업은 판다스 시리즈에 대한 작업보다 훨씬 빠르다.\n",
        "\n",
        "판다스 시리즈가 제공하는 추가 기능이 중요하지 않을 때 넘파이 배열을 판다스 시리즈 대신 사용할 수 있다. 예를 들어 Haversine 함수의 벡터화 구현은 실제로 위도 또는 경도 시리즈의 색인을 사용하지 않으므로 사용할 수 있는 색인이 없어도 함수가 중단되지 않는다. 이에 비해 색인으로 값을 참조해야 하는 데이터 프레임의 조인 같은 작업을 수행한다면 판다스 개체를 계속 사용하는 편이 낫다.\n",
        "\n",
        "위도와 경도 배열을 시리즈의 values 메서드를 단순 사용해서 판다스 시리즈에서 넘파이 배열로 변환한다. 시리즈의 벡터화와 마찬가지로 넘파이 배열을 함수에 직접 전달하면 판다스가 전체 벡터에 함수를 적용시킨다."
      ]
    },
    {
      "cell_type": "markdown",
      "metadata": {
        "id": "3Rft-yJMIlZq"
      },
      "source": [
        "#### Timing vectorized implementation"
      ]
    },
    {
      "cell_type": "code",
      "execution_count": 47,
      "metadata": {
        "deletable": true,
        "editable": true,
        "id": "7AjW-mjPIlZq",
        "jupyter": {
          "outputs_hidden": false
        },
        "outputId": "b17e3f9b-3cc5-4e14-9802-54d766ba8fc5"
      },
      "outputs": [
        {
          "name": "stdout",
          "output_type": "stream",
          "text": [
            "276 µs ± 35.6 µs per loop (mean ± std. dev. of 7 runs, 1000 loops each)\n"
          ]
        }
      ],
      "source": [
        "# Vectorized implementation of Haversine applied on NumPy arrays\n",
        "%timeit df['distance'] = haversine(40.671, -73.985,\\\n",
        "                         df['latitude'].values, df['longitude'].values)  #판다스를 넘파이로 바꿔 계산 하면 조금 더 빠름"
      ]
    },
    {
      "cell_type": "code",
      "execution_count": 48,
      "metadata": {
        "deletable": true,
        "editable": true,
        "id": "QbQrE4FoIlZr",
        "jupyter": {
          "outputs_hidden": false
        },
        "outputId": "c846c988-0bf2-45bd-d6c9-1882ef1c3fb8"
      },
      "outputs": [
        {
          "name": "stdout",
          "output_type": "stream",
          "text": [
            "12.9 µs ± 2.5 µs per loop (mean ± std. dev. of 7 runs, 100000 loops each)\n"
          ]
        }
      ],
      "source": [
        "%%timeit\n",
        "# Convert pandas arrays to NumPy ndarrays\n",
        "np_lat = df['latitude'].values\n",
        "np_lon = df['longitude'].values"
      ]
    },
    {
      "cell_type": "markdown",
      "metadata": {
        "id": "3i_vvjxrIlZr"
      },
      "source": [
        "## Summary"
      ]
    },
    {
      "cell_type": "markdown",
      "metadata": {
        "id": "FxktdvYgIlZr"
      },
      "source": [
        "판다스 코드 최적화에 관해 몇 가지 기본적인 결론을 내릴 수 있다.\n",
        "\n",
        "1 . 반복을 피해라. 사용 사례 대부분의 경우 반복은 느리고 불필요하다.  \n",
        "2 . 반복해야 하는 경우 반복 함수가 아닌 apply()를 사용해라.  \n",
        "3 . 보통은 벡터화가 스칼라 연산보다 낫다. 대부분의 판다스 작업은 벡터화시킬 수 있다.  \n",
        "4 . 넘파이 배열에서의 벡터 연산은 판다스 시리즈에서 수행하는 것보다 효율적이다.  "
      ]
    },
    {
      "cell_type": "markdown",
      "metadata": {
        "id": "3ttAHNkIIlZr"
      },
      "source": [
        "### 실습\n",
        "\n",
        "아래의 조건을 만족하는 호텔의 List를 출력해 봅시다.\n",
        "\n",
        "\n",
        "1.  현재 나는 (\"latitude\", \"longitude\") = (40.671, -73.985) 위치에 있고, 숙박할 호텔을 찾고 있습니다.\n",
        "2. 직선거리 기준으로 200m 안쪽에 있었으면 좋겠습니다.\n",
        "3.  star_rating이 4 이상인 호텔을 찾고 있습니다. \n",
        "\n",
        "해당 조건을 만족하는 호텔들을 출력해봅시다"
      ]
    },
    {
      "cell_type": "code",
      "execution_count": 80,
      "metadata": {},
      "outputs": [
        {
          "data": {
            "text/plain": [
              "0       True\n",
              "1       True\n",
              "2       True\n",
              "3       True\n",
              "4       True\n",
              "        ... \n",
              "1626    True\n",
              "1627    True\n",
              "1628    True\n",
              "1629    True\n",
              "1630    True\n",
              "Name: distance, Length: 1631, dtype: bool"
            ]
          },
          "execution_count": 80,
          "metadata": {},
          "output_type": "execute_result"
        }
      ],
      "source": [
        "df"
      ]
    },
    {
      "cell_type": "code",
      "execution_count": 79,
      "metadata": {},
      "outputs": [
        {
          "data": {
            "text/plain": [
              "count     1631\n",
              "unique       1\n",
              "top       True\n",
              "freq      1631\n",
              "Name: distance, dtype: object"
            ]
          },
          "execution_count": 79,
          "metadata": {},
          "output_type": "execute_result"
        }
      ],
      "source": [
        "df.describe()"
      ]
    },
    {
      "cell_type": "code",
      "execution_count": 106,
      "metadata": {},
      "outputs": [],
      "source": [
        "def haversine_looping(df):\n",
        "    distance_list = [] # 빈 리스트를 생성\n",
        "    for i in range(0, len(df)):   #dataframe에서 값을 하나씩 뽑아서 \n",
        "        d = haversine(40.671, -73.985, df.iloc[i]['latitude'], df.iloc[i]['longitude'])\n",
        "        distance_list.append(d)\n",
        "    return distance_list"
      ]
    },
    {
      "cell_type": "code",
      "execution_count": 107,
      "metadata": {},
      "outputs": [],
      "source": [
        "df['distance'] = haversine_looping(df) "
      ]
    },
    {
      "cell_type": "code",
      "execution_count": 148,
      "metadata": {},
      "outputs": [],
      "source": [
        "df[(df['distance'] < 200) & (df['star_rating'] >= 4)]"
      ]
    },
    {
      "cell_type": "code",
      "execution_count": 151,
      "metadata": {},
      "outputs": [
        {
          "data": {
            "text/html": [
              "<div>\n",
              "<style scoped>\n",
              "    .dataframe tbody tr th:only-of-type {\n",
              "        vertical-align: middle;\n",
              "    }\n",
              "\n",
              "    .dataframe tbody tr th {\n",
              "        vertical-align: top;\n",
              "    }\n",
              "\n",
              "    .dataframe thead th {\n",
              "        text-align: right;\n",
              "    }\n",
              "</style>\n",
              "<table border=\"1\" class=\"dataframe\">\n",
              "  <thead>\n",
              "    <tr style=\"text-align: right;\">\n",
              "      <th></th>\n",
              "      <th>name</th>\n",
              "      <th>address1</th>\n",
              "    </tr>\n",
              "  </thead>\n",
              "  <tbody>\n",
              "    <tr>\n",
              "      <th>114</th>\n",
              "      <td>Topping Rose House</td>\n",
              "      <td>One Bridgehampton - Sag Harbor Turnpike</td>\n",
              "    </tr>\n",
              "    <tr>\n",
              "      <th>129</th>\n",
              "      <td>Sheraton Brooklyn New York Hotel</td>\n",
              "      <td>228 Duffield Street</td>\n",
              "    </tr>\n",
              "    <tr>\n",
              "      <th>134</th>\n",
              "      <td>McCarren Hotel &amp; Pool</td>\n",
              "      <td>160 N 12th St</td>\n",
              "    </tr>\n",
              "    <tr>\n",
              "      <th>142</th>\n",
              "      <td>The Box House Hotel</td>\n",
              "      <td>77 Box Street</td>\n",
              "    </tr>\n",
              "    <tr>\n",
              "      <th>154</th>\n",
              "      <td>New York Marriott at the Brooklyn Bridge</td>\n",
              "      <td>333 Adams St</td>\n",
              "    </tr>\n",
              "    <tr>\n",
              "      <th>...</th>\n",
              "      <td>...</td>\n",
              "      <td>...</td>\n",
              "    </tr>\n",
              "    <tr>\n",
              "      <th>1592</th>\n",
              "      <td>Viana Hotel &amp; Spa, BW Premier Collection</td>\n",
              "      <td>3998 Brush Hollow Rd</td>\n",
              "    </tr>\n",
              "    <tr>\n",
              "      <th>1600</th>\n",
              "      <td>The Ritz-Carlton New York, Westchester</td>\n",
              "      <td>3 Renaissance Square</td>\n",
              "    </tr>\n",
              "    <tr>\n",
              "      <th>1601</th>\n",
              "      <td>Furnished Quarters Bank Street Commons</td>\n",
              "      <td>15/25 Bank Street</td>\n",
              "    </tr>\n",
              "    <tr>\n",
              "      <th>1602</th>\n",
              "      <td>Global Luxury Apartments in White Plains</td>\n",
              "      <td>15 Bank Street</td>\n",
              "    </tr>\n",
              "    <tr>\n",
              "      <th>1603</th>\n",
              "      <td>Global Luxury Suites at White Plains</td>\n",
              "      <td>27 Barker Avenue</td>\n",
              "    </tr>\n",
              "  </tbody>\n",
              "</table>\n",
              "<p>245 rows × 2 columns</p>\n",
              "</div>"
            ],
            "text/plain": [
              "                                          name  \\\n",
              "114                         Topping Rose House   \n",
              "129           Sheraton Brooklyn New York Hotel   \n",
              "134                      McCarren Hotel & Pool   \n",
              "142                        The Box House Hotel   \n",
              "154   New York Marriott at the Brooklyn Bridge   \n",
              "...                                        ...   \n",
              "1592  Viana Hotel & Spa, BW Premier Collection   \n",
              "1600    The Ritz-Carlton New York, Westchester   \n",
              "1601    Furnished Quarters Bank Street Commons   \n",
              "1602  Global Luxury Apartments in White Plains   \n",
              "1603      Global Luxury Suites at White Plains   \n",
              "\n",
              "                                     address1  \n",
              "114   One Bridgehampton - Sag Harbor Turnpike  \n",
              "129                       228 Duffield Street  \n",
              "134                             160 N 12th St  \n",
              "142                             77 Box Street  \n",
              "154                              333 Adams St  \n",
              "...                                       ...  \n",
              "1592                     3998 Brush Hollow Rd  \n",
              "1600                     3 Renaissance Square  \n",
              "1601                        15/25 Bank Street  \n",
              "1602                           15 Bank Street  \n",
              "1603                         27 Barker Avenue  \n",
              "\n",
              "[245 rows x 2 columns]"
            ]
          },
          "execution_count": 151,
          "metadata": {},
          "output_type": "execute_result"
        }
      ],
      "source": [
        "df[(df['distance'] < 200) & (df['star_rating'] >= 4)][['name',\"address1\"]]\n",
        "\n"
      ]
    },
    {
      "cell_type": "code",
      "execution_count": 156,
      "metadata": {},
      "outputs": [
        {
          "data": {
            "text/plain": [
              "245"
            ]
          },
          "execution_count": 156,
          "metadata": {},
          "output_type": "execute_result"
        }
      ],
      "source": [
        "len(df[(df['distance'] < 200) & (df['star_rating'] >= 4)])\n"
      ]
    }
  ],
  "metadata": {
    "colab": {
      "provenance": []
    },
    "kernelspec": {
      "display_name": "Python 3 (ipykernel)",
      "language": "python",
      "name": "python3"
    },
    "language_info": {
      "codemirror_mode": {
        "name": "ipython",
        "version": 3
      },
      "file_extension": ".py",
      "mimetype": "text/x-python",
      "name": "python",
      "nbconvert_exporter": "python",
      "pygments_lexer": "ipython3",
      "version": "3.11.3"
    }
  },
  "nbformat": 4,
  "nbformat_minor": 0
}
